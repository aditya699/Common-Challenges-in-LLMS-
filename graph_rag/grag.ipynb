{
 "cells": [
  {
   "cell_type": "markdown",
   "metadata": {},
   "source": [
    "# What is Neo4j Graph Database?\n",
    "\n",
    "# Neo4j is a graph database that fundamentally differs from traditional relational databases:\n",
    "# - Stores data as nodes and relationships, not tables\n",
    "# - Visual exploration of how entities like people, projects, and teams are connected\n",
    "# - Uses Cypher query language (similar to SQL, but designed for graphs)\n",
    "\n",
    "# ![Neo4j Graph Visualization](assets/pic1.PNG)\n",
    "\n",
    "# Example: Creating a Simple Organizational Graph\n",
    "\n",
    "# Create employees\n",
    "# CREATE (aditya:Employee {name: \"Aditya\", role: \"Engineer\"})\n",
    "# CREATE (shivani:Employee {name: \"Shivani\", role: \"Engineering Manager\"})\n",
    "\n",
    "# Create team\n",
    "# CREATE (aiTeam:Team {name: \"AI Platform\"})\n",
    "\n",
    "# Relationships\n",
    "# CREATE (aditya)-[:REPORTS_TO]->(shivani)\n",
    "# CREATE (aditya)-[:MEMBER_OF]->(aiTeam)\n",
    "# CREATE (shivani)-[:MEMBER_OF]->(aiTeam)\n",
    "\n",
    "# What this does:\n",
    "# - Creates two Employee nodes: Aditya and Shivani\n",
    "# - One Team node: \"AI Platform\"\n",
    "# - Relationships:\n",
    "#   - Aditya REPORTS_TO Shivani\n",
    "#   - Both Aditya and Shivani are MEMBER_OF the same team\n",
    "\n",
    "# Example: Querying the Graph(RAG)\n",
    "\n",
    "#  ![Neo4j Graph Visualization](assets/pic3.PNG)\n",
    "# ![Neo4j Graph Visualization](assets/pic2.PNG)"
   ]
  },
  {
   "cell_type": "code",
   "execution_count": null,
   "metadata": {},
   "outputs": [],
   "source": []
  }
 ],
 "metadata": {
  "language_info": {
   "name": "python"
  }
 },
 "nbformat": 4,
 "nbformat_minor": 2
}
