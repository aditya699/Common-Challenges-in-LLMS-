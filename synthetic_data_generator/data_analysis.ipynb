{
 "cells": [
  {
   "cell_type": "code",
   "execution_count": 7,
   "metadata": {},
   "outputs": [],
   "source": [
    "import pandas as pd\n",
    "import numpy as np\n",
    "import os\n",
    "data_positive = pd.read_csv(\"synthetic_positive_data.csv\")\n",
    "data_negative = pd.read_csv(\"synthetic_negative_data.csv\")\n",
    "data_neutral = pd.read_csv(\"synthetic_neutral_data.csv\")\n",
    "\n",
    "final_data=pd.concat([data_positive,data_negative,data_neutral])\n",
    "\n",
    "final_data.to_csv(\"Financial_Sentiment_data.csv\",index=False)\n",
    "\n",
    "# Remove the individual files after concatenation\n",
    "os.remove(\"synthetic_positive_data.csv\")\n",
    "os.remove(\"synthetic_negative_data.csv\")\n",
    "os.remove(\"synthetic_neutral_data.csv\")\n",
    "\n",
    "\n"
   ]
  },
  {
   "cell_type": "code",
   "execution_count": null,
   "metadata": {},
   "outputs": [],
   "source": []
  }
 ],
 "metadata": {
  "kernelspec": {
   "display_name": "Python 3",
   "language": "python",
   "name": "python3"
  },
  "language_info": {
   "codemirror_mode": {
    "name": "ipython",
    "version": 3
   },
   "file_extension": ".py",
   "mimetype": "text/x-python",
   "name": "python",
   "nbconvert_exporter": "python",
   "pygments_lexer": "ipython3",
   "version": "3.11.9"
  }
 },
 "nbformat": 4,
 "nbformat_minor": 2
}
