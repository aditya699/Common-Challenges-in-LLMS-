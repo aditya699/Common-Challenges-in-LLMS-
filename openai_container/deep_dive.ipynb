{
 "cells": [
  {
   "cell_type": "code",
   "execution_count": 1,
   "metadata": {},
   "outputs": [],
   "source": [
    "# Import Library\n",
    "from openai import OpenAI\n",
    "import os\n",
    "import requests\n",
    "from dotenv import load_dotenv\n",
    "\n",
    "load_dotenv()\n",
    "client = OpenAI(api_key=os.getenv(\"OPENAI_API_KEY\"))"
   ]
  },
  {
   "cell_type": "code",
   "execution_count": 3,
   "metadata": {},
   "outputs": [
    {
     "name": "stdout",
     "output_type": "stream",
     "text": [
      "Checking existing containers...\n",
      "SyncCursorPage[ContainerListResponse](data=[ContainerListResponse(id='cntr_68314a508e8081919e5d1051f3fcbe27', created_at=1748060752, name='data-analysis-container', object='container', status='running', expires_after=ExpiresAfter(anchor='last_active_at', minutes=20), last_active_at=1748060947), ContainerListResponse(id='cntr_6831312c4e608191b358bef087b081be', created_at=1748054316, name='test-container', object='container', status='expired', expires_after=ExpiresAfter(anchor='last_active_at', minutes=20), last_active_at=1748060947), ContainerListResponse(id='cntr_68312ae94c608191a7ae842feb3da6cd', created_at=1748052713, name='test-container', object='container', status='expired', expires_after=ExpiresAfter(anchor='last_active_at', minutes=20), last_active_at=1748060947), ContainerListResponse(id='cntr_683129f7152881918ba879d28b5cfca7', created_at=1748052471, name='auto', object='container', status='expired', expires_after=ExpiresAfter(anchor='last_active_at', minutes=20), last_active_at=1748060947)], has_more=False, object='list', first_id='cntr_68314a508e8081919e5d1051f3fcbe27', last_id='cntr_683129f7152881918ba879d28b5cfca7')\n"
     ]
    }
   ],
   "source": [
    "# Step 1: Check existing containers and find active ones\n",
    "print(\"Checking existing containers...\")\n",
    "containers = client.containers.list()\n",
    "print(containers)\n"
   ]
  },
  {
   "cell_type": "code",
   "execution_count": 4,
   "metadata": {},
   "outputs": [
    {
     "name": "stdout",
     "output_type": "stream",
     "text": [
      "Container cntr_68314a508e8081919e5d1051f3fcbe27: running\n",
      "Using active container: cntr_68314a508e8081919e5d1051f3fcbe27\n"
     ]
    }
   ],
   "source": [
    "# Find first active (running) container\n",
    "active_container = None\n",
    "for container in containers.data:\n",
    "    print(f\"Container {container.id}: {container.status}\")\n",
    "    if container.status == \"running\":\n",
    "        active_container = container\n",
    "        break\n",
    "\n",
    "if active_container:\n",
    "    container_id = active_container.id\n",
    "    print(f\"Using active container: {container_id}\")\n",
    "else:\n",
    "    print(\"No active containers found. Creating new one...\")\n",
    "    container = client.containers.create(name=\"data-analysis-container\")\n",
    "    container_id = container.id\n",
    "    print(f\"Created new container: {container_id}\")"
   ]
  },
  {
   "cell_type": "code",
   "execution_count": 5,
   "metadata": {},
   "outputs": [
    {
     "name": "stdout",
     "output_type": "stream",
     "text": [
      "File uploaded: /mnt/data/56942508662ee703512c82c531286d53-data.csv\n"
     ]
    }
   ],
   "source": [
    "# Step 2: Upload file\n",
    "url = f\"https://api.openai.com/v1/containers/{container_id}/files\"\n",
    "headers = {\"Authorization\": f\"Bearer {os.getenv('OPENAI_API_KEY')}\"}\n",
    "files = {'file': ('data.csv', open('data.csv', 'rb'))}\n",
    "\n",
    "response = requests.post(url, headers=headers, files=files)\n",
    "file_path = response.json()['path']\n",
    "print(f\"File uploaded: {file_path}\")\n",
    "\n",
    "# Step 3: Analyze with code interpreter\n",
    "response = client.responses.create(\n",
    "    model=\"gpt-4.1-mini\",\n",
    "    tools=[{\"type\": \"code_interpreter\", \"container\": container_id}],\n",
    "    tool_choice=\"required\",\n",
    "    input=f\"Analyze CSV at '{file_path}'. How many rows?\"\n",
    ")\n"
   ]
  },
  {
   "cell_type": "code",
   "execution_count": 6,
   "metadata": {},
   "outputs": [
    {
     "name": "stdout",
     "output_type": "stream",
     "text": [
      "Answer: The CSV file contains 1000 rows. Would you like me to perform any other analysis on this data?\n",
      "Code executed:\n",
      "import pandas as pd\n",
      "\n",
      "# Load the CSV file\n",
      "file_path = '/mnt/data/56942508662ee703512c82c531286d53-data.csv'\n",
      "data = pd.read_csv(file_path)\n",
      "\n",
      "# Get number of rows\n",
      "num_rows = data.shape[0]\n",
      "num_rows\n",
      "Tokens used: 510\n"
     ]
    }
   ],
   "source": [
    "# Results\n",
    "print(f\"Answer: {response.output_text}\")\n",
    "print(f\"Code executed:\\n{response.output[0].code}\")\n",
    "print(f\"Tokens used: {response.usage.total_tokens}\")"
   ]
  },
  {
   "cell_type": "markdown",
   "metadata": {},
   "source": [
    "# Handling charts in openai container"
   ]
  },
  {
   "cell_type": "code",
   "execution_count": 11,
   "metadata": {},
   "outputs": [],
   "source": [
    "# Step 3: Analyze with code interpreter\n",
    "response = client.responses.create(\n",
    "    model=\"gpt-4.1-mini\",\n",
    "    tools=[{\"type\": \"code_interpreter\", \"container\": container_id}],\n",
    "    tool_choice=\"required\",\n",
    "    input=f\"\"\"Analyze CSV at '{file_path}'. Plot a bar chart showing user breakdown by gender.\n",
    "Rotate x-axis labels by 45 degrees for readability. Increase figure width if needed.\n",
    "Add count labels on top of each bar.\"\"\"\n",
    "\n",
    ")\n"
   ]
  },
  {
   "cell_type": "code",
   "execution_count": 12,
   "metadata": {},
   "outputs": [
    {
     "name": "stdout",
     "output_type": "stream",
     "text": [
      "Generated file: cfile_68314d0f620481919d557c0e09a639ef.png (ID: cfile_68314d0f620481919d557c0e09a639ef)\n",
      "Image saved as: gender_breakdown_chart.png\n",
      "\n",
      "Answer: The bar chart shows the user breakdown by gender from the provided CSV file. The x-axis labels have been rotated by 45 degrees for better readability, and the figure width was increased to accommodate the labels. Count labels are displayed on top of each bar for clarity.\n",
      "\n",
      "If you need any further analysis or adjustments, please let me know!\n",
      "Tokens used: 3952\n"
     ]
    }
   ],
   "source": [
    "# Extract file information from the response\n",
    "for output in response.output:\n",
    "    if hasattr(output, 'content'):\n",
    "        for content in output.content:\n",
    "            if hasattr(content, 'annotations'):\n",
    "                for annotation in content.annotations:\n",
    "                    if annotation.type == 'container_file_citation':\n",
    "                        file_id = annotation.file_id\n",
    "                        filename = annotation.filename\n",
    "                        print(f\"Generated file: {filename} (ID: {file_id})\")\n",
    "                        \n",
    "                        # Download the image file\n",
    "                        download_url = f\"https://api.openai.com/v1/containers/{container_id}/files/{file_id}/content\"\n",
    "                        headers = {\"Authorization\": f\"Bearer {os.getenv('OPENAI_API_KEY')}\"}\n",
    "                        \n",
    "                        file_response = requests.get(download_url, headers=headers)\n",
    "                        if file_response.status_code == 200:\n",
    "                            # Save the image locally\n",
    "                            local_filename = f\"gender_breakdown_chart.png\"\n",
    "                            with open(local_filename, 'wb') as f:\n",
    "                                f.write(file_response.content)\n",
    "                            print(f\"Image saved as: {local_filename}\")\n",
    "                        else:\n",
    "                            print(f\"Failed to download file: {file_response.status_code}\")\n",
    "\n",
    "# Also display the response for reference\n",
    "print(f\"\\nAnswer: {response.output_text}\")\n",
    "print(f\"Tokens used: {response.usage.total_tokens}\")"
   ]
  },
  {
   "cell_type": "code",
   "execution_count": 10,
   "metadata": {},
   "outputs": [
    {
     "data": {
      "text/plain": [
       "Response(id='resp_68314b9a4bc08191990e7d962070b0e20cdb1ad7bd57b962', created_at=1748061082.0, error=None, incomplete_details=None, instructions=None, metadata={}, model='gpt-4.1-mini-2025-04-14', object='response', output=[ResponseCodeInterpreterToolCall(id='ci_68314b9afc6c81919920e1e5ba0a1e300cdb1ad7bd57b962', code=\"import pandas as pd\\n\\n# Load the CSV file to examine its content\\nfile_path = '/mnt/data/56942508662ee703512c82c531286d53-data.csv'\\ndata = pd.read_csv(file_path)\\n\\n# Display the first few rows and columns to understand its structure\\ndata.head(), data.columns\", results=None, status='completed', type='code_interpreter_call', container_id='cntr_68314a508e8081919e5d1051f3fcbe27', outputs=None), ResponseOutputMessage(id='msg_68314b9d19448191bbae006e2a38f10f0cdb1ad7bd57b962', content=[ResponseOutputText(annotations=[], text='The dataset contains the following columns: id, first_name, last_name, email, gender, and ip_address. I will now plot a chart to show the user breakdown by gender.', type='output_text')], role='assistant', status='completed', type='message'), ResponseCodeInterpreterToolCall(id='ci_68314b9de4c88191becec422098ad3e00cdb1ad7bd57b962', code=\"import matplotlib.pyplot as plt\\n\\n# Count the number of users by gender\\ngender_counts = data['gender'].value_counts()\\n\\n# Plotting the user breakdown by gender\\nplt.figure(figsize=(8, 6))\\ngender_counts.plot(kind='bar', color=['skyblue', 'lightgreen', 'orange'])\\nplt.title('User Breakdown by Gender')\\nplt.xlabel('Gender')\\nplt.ylabel('Number of Users')\\nplt.xticks(rotation=0)\\nplt.show()\", results=None, status='completed', type='code_interpreter_call', container_id='cntr_68314a508e8081919e5d1051f3fcbe27', outputs=None), ResponseOutputMessage(id='msg_68314ba21af4819189e140bfeb38ac530cdb1ad7bd57b962', content=[ResponseOutputText(annotations=[AnnotationFileCitation(file_id='cfile_68314ba182008191ac8c3503d924ddf3', index=None, type='container_file_citation', container_id='cntr_68314a508e8081919e5d1051f3fcbe27', end_index=0, filename='cfile_68314ba182008191ac8c3503d924ddf3.png', start_index=0)], text='Here is the bar chart showing the breakdown of users by gender in the dataset. The dataset includes several gender categories such as Male, Female, Non-binary, Polygender, Genderqueer, Agender, Bigender, and Genderfluid. If you would like, I can also provide the exact counts or analyze the data further.', type='output_text')], role='assistant', status='completed', type='message')], parallel_tool_calls=True, temperature=1.0, tool_choice='required', tools=[CodeInterpreter(container='cntr_68314a508e8081919e5d1051f3fcbe27', type='code_interpreter')], top_p=1.0, background=False, max_output_tokens=None, previous_response_id=None, reasoning=Reasoning(effort=None, generate_summary=None, summary=None), service_tier='default', status='completed', text=ResponseTextConfig(format=ResponseFormatText(type='text')), truncation='disabled', usage=ResponseUsage(input_tokens=4219, input_tokens_details=InputTokensDetails(cached_tokens=0), output_tokens=278, output_tokens_details=OutputTokensDetails(reasoning_tokens=0), total_tokens=4497), user=None, store=True)"
      ]
     },
     "execution_count": 10,
     "metadata": {},
     "output_type": "execute_result"
    }
   ],
   "source": [
    "response"
   ]
  },
  {
   "cell_type": "code",
   "execution_count": null,
   "metadata": {},
   "outputs": [],
   "source": []
  },
  {
   "cell_type": "code",
   "execution_count": null,
   "metadata": {},
   "outputs": [],
   "source": []
  }
 ],
 "metadata": {
  "kernelspec": {
   "display_name": "Python 3",
   "language": "python",
   "name": "python3"
  },
  "language_info": {
   "codemirror_mode": {
    "name": "ipython",
    "version": 3
   },
   "file_extension": ".py",
   "mimetype": "text/x-python",
   "name": "python",
   "nbconvert_exporter": "python",
   "pygments_lexer": "ipython3",
   "version": "3.11.9"
  }
 },
 "nbformat": 4,
 "nbformat_minor": 2
}
